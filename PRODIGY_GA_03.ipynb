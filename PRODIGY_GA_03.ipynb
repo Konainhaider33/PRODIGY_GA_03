{
  "nbformat": 4,
  "nbformat_minor": 0,
  "metadata": {
    "colab": {
      "provenance": []
    },
    "kernelspec": {
      "name": "python3",
      "display_name": "Python 3"
    },
    "language_info": {
      "name": "python"
    }
  },
  "cells": [
    {
      "cell_type": "code",
      "execution_count": 6,
      "metadata": {
        "colab": {
          "base_uri": "https://localhost:8080/"
        },
        "id": "XbThbbyg9MbE",
        "outputId": "0b035f98-373c-4fce-b943-2e4d1794de04"
      },
      "outputs": [
        {
          "output_type": "stream",
          "name": "stdout",
          "text": [
            "He is a very handsome andd good boy.\n"
          ]
        }
      ],
      "source": [
        "import random\n",
        "from collections import defaultdict\n",
        "\n",
        "class MarkovChainTextGenerator:\n",
        "    def __init__(self):\n",
        "        self.transition_matrix = defaultdict(list)\n",
        "\n",
        "    def build_transition_matrix(self, text):\n",
        "        \"\"\"Builds the transition matrix from the provided text.\"\"\"\n",
        "        words = text.split()\n",
        "\n",
        "        # Iterate through words and populate transition matrix\n",
        "        for current_word, next_word in zip(words, words[1:]):\n",
        "            self.transition_matrix[current_word].append(next_word)\n",
        "\n",
        "    def generate_text(self, length=100, seed_word=None):\n",
        "        \"\"\"Generates text using the Markov chain model.\"\"\"\n",
        "        if seed_word is None or seed_word not in self.transition_matrix:\n",
        "            # If no valid seed word is provided, randomly pick one\n",
        "            seed_word = random.choice(list(self.transition_matrix.keys()))\n",
        "\n",
        "        # Start the generated text with the seed word\n",
        "        generated_words = [seed_word]\n",
        "\n",
        "        current_word = seed_word\n",
        "\n",
        "        for _ in range(length - 1):\n",
        "            # Get the possible next words for the current word\n",
        "            next_words = self.transition_matrix.get(current_word, [])\n",
        "\n",
        "            if not next_words:\n",
        "                break  # End if there are no next words available\n",
        "\n",
        "            # Randomly pick the next word based on the transition matrix\n",
        "            current_word = random.choice(next_words)\n",
        "            generated_words.append(current_word)\n",
        "\n",
        "        return ' '.join(generated_words)\n",
        "\n",
        "# Sample usage\n",
        "if __name__ == \"__main__\":\n",
        "    text = \"\"\"He is a very handsome andd good boy.\"\"\"\n",
        "\n",
        "    # Initialize the generator\n",
        "    generator = MarkovChainTextGenerator()\n",
        "\n",
        "    # Build the transition matrix based on the input text\n",
        "    generator.build_transition_matrix(text)\n",
        "\n",
        "    # Generate a text of 50 words starting with the word 'king'\n",
        "    generated_text = generator.generate_text(length=50, seed_word='He')\n",
        "    print(generated_text)"
      ]
    }
  ]
}